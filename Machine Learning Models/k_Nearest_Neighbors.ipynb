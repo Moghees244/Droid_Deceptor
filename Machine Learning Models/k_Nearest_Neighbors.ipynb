{
  "nbformat": 4,
  "nbformat_minor": 0,
  "metadata": {
    "colab": {
      "provenance": [],
      "authorship_tag": "ABX9TyNQNKfaMFNXPEbwQUC9MHw5",
      "include_colab_link": true
    },
    "kernelspec": {
      "name": "python3",
      "display_name": "Python 3"
    },
    "language_info": {
      "name": "python"
    }
  },
  "cells": [
    {
      "cell_type": "markdown",
      "metadata": {
        "id": "view-in-github",
        "colab_type": "text"
      },
      "source": [
        "<a href=\"https://colab.research.google.com/github/Moghees244/Android_Malware_Detection_System/blob/main/k_Nearest_Neighbors.ipynb\" target=\"_parent\"><img src=\"https://colab.research.google.com/assets/colab-badge.svg\" alt=\"Open In Colab\"/></a>"
      ]
    },
    {
      "cell_type": "markdown",
      "source": [
        "**Android Malware Detection Using k Nearest Neighbors**"
      ],
      "metadata": {
        "id": "MmfYRDiHQOA8"
      }
    },
    {
      "cell_type": "code",
      "source": [
        "import numpy as np\n",
        "import pandas as pd\n",
        "import matplotlib.pyplot as plt\n",
        "import math\n",
        "import seaborn as sns\n",
        "from sklearn.neighbors import KNeighborsClassifier\n",
        "from sklearn.metrics import confusion_matrix, classification_report, accuracy_score\n",
        "from sklearn.model_selection import train_test_split, GridSearchCV"
      ],
      "metadata": {
        "id": "yXiLf4yNQXey"
      },
      "execution_count": 1,
      "outputs": []
    },
    {
      "cell_type": "markdown",
      "source": [
        "**Reading Dataset**"
      ],
      "metadata": {
        "id": "lw4CtqNzRQpP"
      }
    },
    {
      "cell_type": "code",
      "source": [
        "# Load datasets\n",
        "dataset = pd.read_csv('/content/Dataset.csv', header = None)\n",
        "\n",
        "X = dataset.iloc[1:,1:-1]\n",
        "y = dataset.iloc[1:,-1]\n",
        "\n",
        "\n",
        "X_train, X_test, y_train, y_test = train_test_split(X, y, random_state=104, test_size=0.3, shuffle=True)\n",
        "\n",
        "print(\"X_train Shape : \" + str(X_train.shape))\n",
        "print(\"Y_train Shape : \" + str(y_train.shape))\n",
        "\n",
        "print(\"X_test Shape : \" + str(X_test.shape))\n",
        "print(\"Y_test Shape : \" + str(y_test.shape))"
      ],
      "metadata": {
        "colab": {
          "base_uri": "https://localhost:8080/"
        },
        "id": "wLszEi2MRVMp",
        "outputId": "3b017386-a999-4011-99b6-4b20d2fa1940"
      },
      "execution_count": 2,
      "outputs": [
        {
          "output_type": "stream",
          "name": "stdout",
          "text": [
            "X_train Shape : (4894, 175)\n",
            "Y_train Shape : (4894,)\n",
            "X_test Shape : (2098, 175)\n",
            "Y_test Shape : (2098,)\n"
          ]
        },
        {
          "output_type": "stream",
          "name": "stderr",
          "text": [
            "<ipython-input-2-594527322a61>:2: DtypeWarning: Columns (1,2,3,4,5,6,7,8,9,10,11,12,13,14,15,16,17,18,19,20,21,22,23,24,25,26,27,28,29,30,31,32,33,34,35,36,37,38,39,40,41,42,43,44,45,46,47,48,49,50,51,52,53,54,55,56,57,58,59,60,61,62,63,64,65,66,67,68,69,70,71,72,73,74,75,76,77,78,79,80,81,82,83,84,85,86,87,88,89,90,91,92,93,94,95,96,97,98,99,100,101,102,103,104,105,106,107,108,109,110,111,112,113,114,115,116,117,118,119,120,121,122,123,124,125,126,127,128,129,130,131,132,133,134,135,136,137,138,139,140,141,142,143,144,145,146,147,148,149,150,151,152,153,154,155,156,157,158,159,160,161,162,163,164,165,166,167,168,169,170,171,172,173,174,175) have mixed types. Specify dtype option on import or set low_memory=False.\n",
            "  dataset = pd.read_csv('/content/Dataset.csv', header = None)\n"
          ]
        }
      ]
    },
    {
      "cell_type": "markdown",
      "source": [
        "**Training Model**"
      ],
      "metadata": {
        "id": "NW-nehK-RoMb"
      }
    },
    {
      "cell_type": "code",
      "source": [
        "param_grid = {'n_neighbors': np.arange(1, 25)}\n",
        "classifier = GridSearchCV(KNeighborsClassifier(), param_grid, cv=5)\n",
        "classifier.fit(X_train, y_train)\n",
        "\n",
        "print(\"Best Parameters : \", classifier.best_params_)\n",
        "print(\"Model's Accuracy on Training Set : \", classifier.score(X_train, y_train) * 100)"
      ],
      "metadata": {
        "colab": {
          "base_uri": "https://localhost:8080/"
        },
        "id": "7C3n-3pjRtHb",
        "outputId": "80663cbf-483a-408b-96ef-e23be30448a3"
      },
      "execution_count": 3,
      "outputs": [
        {
          "output_type": "stream",
          "name": "stdout",
          "text": [
            "Best Parameters :  {'n_neighbors': 2}\n",
            "Model's Accuracy on Training Set :  99.61176951369023\n"
          ]
        }
      ]
    },
    {
      "cell_type": "code",
      "source": [
        "classifier = KNeighborsClassifier(n_neighbors= 2)\n",
        "classifier.fit(X_train, y_train)\n",
        "\n",
        "print(\"Model's Accuracy on Training Set : \", classifier.score(X_train, y_train) * 100)"
      ],
      "metadata": {
        "id": "Qa5_h9NlsTEQ",
        "outputId": "b16ae369-6223-4db3-e00b-2c92729d7616",
        "colab": {
          "base_uri": "https://localhost:8080/"
        }
      },
      "execution_count": 5,
      "outputs": [
        {
          "output_type": "stream",
          "name": "stdout",
          "text": [
            "Model's Accuracy on Training Set :  99.61176951369023\n"
          ]
        }
      ]
    },
    {
      "cell_type": "markdown",
      "source": [
        "**Evaluaing Model**"
      ],
      "metadata": {
        "id": "onLbVYDLR-JX"
      }
    },
    {
      "cell_type": "code",
      "source": [
        "# Predicting\n",
        "y_pred = classifier.predict(X_test)\n",
        "\n",
        "# Evaluation\n",
        "cf_matrix = confusion_matrix(y_test, y_pred)\n",
        "\n",
        "# Confusion Metrix Graph\n",
        "sns.heatmap(pd.DataFrame(cf_matrix), annot=True, cmap=\"YlGnBu\" ,fmt='g')\n",
        "plt.title('Confusion matrix', y=1.1)\n",
        "plt.ylabel('Actual label')\n",
        "plt.xlabel('Predicted label')\n",
        "\n",
        "# Accuracy\n",
        "accuracy = accuracy_score(y_test,y_pred)\n",
        "print(\"Model's Accuracy on Test Set : \", accuracy * 100)"
      ],
      "metadata": {
        "colab": {
          "base_uri": "https://localhost:8080/",
          "height": 526
        },
        "id": "T9jN2AbBSB7E",
        "outputId": "b4f37044-5e5c-4044-a793-4de2ff908407"
      },
      "execution_count": 6,
      "outputs": [
        {
          "output_type": "stream",
          "name": "stdout",
          "text": [
            "Model's Accuracy on Test Set :  98.8560533841754\n"
          ]
        },
        {
          "output_type": "display_data",
          "data": {
            "text/plain": [
              "<Figure size 640x480 with 2 Axes>"
            ],
            "image/png": "[encoded data removed]"
          },
          "metadata": {}
        }
      ]
    }
  ]
}