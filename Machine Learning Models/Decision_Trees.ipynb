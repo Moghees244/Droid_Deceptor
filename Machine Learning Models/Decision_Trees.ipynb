{
  "nbformat": 4,
  "nbformat_minor": 0,
  "metadata": {
    "colab": {
      "provenance": [],
      "gpuType": "T4",
      "include_colab_link": true
    },
    "kernelspec": {
      "name": "python3",
      "display_name": "Python 3"
    },
    "language_info": {
      "name": "python"
    },
    "accelerator": "GPU"
  },
  "cells": [
    {
      "cell_type": "markdown",
      "metadata": {
        "id": "view-in-github",
        "colab_type": "text"
      },
      "source": [
        "<a href=\"https://colab.research.google.com/github/Moghees244/Android_Malware_Detection_System/blob/main/Decision_Trees.ipynb\" target=\"_parent\"><img src=\"https://colab.research.google.com/assets/colab-badge.svg\" alt=\"Open In Colab\"/></a>"
      ]
    },
    {
      "cell_type": "markdown",
      "source": [
        "**Android Malware Detection Using Decision Trees**"
      ],
      "metadata": {
        "id": "7UDxFC8AWOTO"
      }
    },
    {
      "cell_type": "code",
      "source": [
        "import pandas as pd\n",
        "import matplotlib.pyplot as plt\n",
        "import math\n",
        "import seaborn as sns\n",
        "from sklearn.tree import DecisionTreeClassifier\n",
        "from sklearn.metrics import confusion_matrix, classification_report, accuracy_score\n",
        "from sklearn.model_selection import train_test_split, GridSearchCV"
      ],
      "metadata": {
        "id": "Fk60mFHpWRb-"
      },
      "execution_count": 2,
      "outputs": []
    },
    {
      "cell_type": "markdown",
      "source": [
        "**Reading Dataset**"
      ],
      "metadata": {
        "id": "X8-ENoTdYYR5"
      }
    },
    {
      "cell_type": "code",
      "source": [
        "# Load datasets\n",
        "dataset = pd.read_csv('/content/Dataset.csv', header = None)\n",
        "\n",
        "X = dataset.iloc[1:,1:-1]\n",
        "y = dataset.iloc[1:,-1]\n",
        "\n",
        "\n",
        "X_train, X_test, y_train, y_test = train_test_split(X, y, random_state=104, test_size=0.3, shuffle=True)\n",
        "\n",
        "print(\"X_train Shape : \" + str(X_train.shape))\n",
        "print(\"Y_train Shape : \" + str(y_train.shape))\n",
        "\n",
        "print(\"X_test Shape : \" + str(X_test.shape))\n",
        "print(\"Y_test Shape : \" + str(y_test.shape))"
      ],
      "metadata": {
        "colab": {
          "base_uri": "https://localhost:8080/"
        },
        "id": "NGtTzV4gYg_q",
        "outputId": "892f548e-69eb-4612-90c6-4328fd5c4cf4"
      },
      "execution_count": 4,
      "outputs": [
        {
          "output_type": "stream",
          "name": "stdout",
          "text": [
            "X_train Shape : (4894, 175)\n",
            "Y_train Shape : (4894,)\n",
            "X_test Shape : (2098, 175)\n",
            "Y_test Shape : (2098,)\n"
          ]
        },
        {
          "output_type": "stream",
          "name": "stderr",
          "text": [
            "<ipython-input-4-594527322a61>:2: DtypeWarning: Columns (1,2,3,4,5,6,7,8,9,10,11,12,13,14,15,16,17,18,19,20,21,22,23,24,25,26,27,28,29,30,31,32,33,34,35,36,37,38,39,40,41,42,43,44,45,46,47,48,49,50,51,52,53,54,55,56,57,58,59,60,61,62,63,64,65,66,67,68,69,70,71,72,73,74,75,76,77,78,79,80,81,82,83,84,85,86,87,88,89,90,91,92,93,94,95,96,97,98,99,100,101,102,103,104,105,106,107,108,109,110,111,112,113,114,115,116,117,118,119,120,121,122,123,124,125,126,127,128,129,130,131,132,133,134,135,136,137,138,139,140,141,142,143,144,145,146,147,148,149,150,151,152,153,154,155,156,157,158,159,160,161,162,163,164,165,166,167,168,169,170,171,172,173,174,175) have mixed types. Specify dtype option on import or set low_memory=False.\n",
            "  dataset = pd.read_csv('/content/Dataset.csv', header = None)\n"
          ]
        }
      ]
    },
    {
      "cell_type": "markdown",
      "source": [
        "**Training Model**"
      ],
      "metadata": {
        "id": "8DDWRn1xY-wA"
      }
    },
    {
      "cell_type": "code",
      "source": [
        "# The model was overfitting with default values so doing pre-pruning\n",
        "params = {\n",
        "    'criterion': [\"gini\", \"entropy\"],\n",
        "    'max_depth': range(10, 20),\n",
        "    'min_samples_split': range(5, 20),\n",
        "    'min_samples_leaf': range(3, 20)\n",
        "}\n",
        "\n",
        "classifier = GridSearchCV(DecisionTreeClassifier(), params, cv=5)\n",
        "classifier.fit(X_train, y_train)\n",
        "\n",
        "print(\"Best Params : \", classifier.best_params_)\n",
        "print(\"Model's Accuracy on Training Set : \", classifier.score(X_train, y_train) * 100)"
      ],
      "metadata": {
        "id": "nPXblF75ZCAv",
        "colab": {
          "base_uri": "https://localhost:8080/"
        },
        "outputId": "644d8f1e-f20e-48df-854d-e46a985c6b04"
      },
      "execution_count": 3,
      "outputs": [
        {
          "output_type": "stream",
          "name": "stdout",
          "text": [
            "Best Params :  {'criterion': 'gini', 'max_depth': 11, 'min_samples_leaf': 3, 'min_samples_split': 8}\n",
            "Model's Accuracy on Training Set :  99.01920719248058\n"
          ]
        }
      ]
    },
    {
      "cell_type": "code",
      "source": [
        "# The best parameters received from above code are used here\n",
        "classifier = DecisionTreeClassifier(criterion=\"gini\",max_depth=11, min_samples_leaf=3, min_samples_split=8)\n",
        "classifier.fit(X_train, y_train)\n",
        "\n",
        "print(\"Model's Accuracy on Training Set : \", classifier.score(X_train, y_train) * 100)"
      ],
      "metadata": {
        "colab": {
          "base_uri": "https://localhost:8080/"
        },
        "id": "3lkZ4tF-zuxj",
        "outputId": "ed9ad90b-ea37-46a2-f433-d76beb01b7a1"
      },
      "execution_count": 5,
      "outputs": [
        {
          "output_type": "stream",
          "name": "stdout",
          "text": [
            "Model's Accuracy on Training Set :  99.01920719248058\n"
          ]
        }
      ]
    },
    {
      "cell_type": "markdown",
      "source": [
        "**Evaluating Model**"
      ],
      "metadata": {
        "id": "RiKBcTggZVXt"
      }
    },
    {
      "cell_type": "code",
      "source": [
        "# Predicting\n",
        "y_pred = classifier.predict(X_test)\n",
        "\n",
        "# Evaluation\n",
        "cf_matrix = confusion_matrix(y_test, y_pred)\n",
        "\n",
        "# Confusion Metrix Graph\n",
        "sns.heatmap(pd.DataFrame(cf_matrix), annot=True, cmap=\"YlGnBu\" ,fmt='g')\n",
        "plt.title('Confusion matrix', y=1.1)\n",
        "plt.ylabel('Actual label')\n",
        "plt.xlabel('Predicted label')\n",
        "\n",
        "# Accuracy\n",
        "accuracy = accuracy_score(y_test,y_pred)\n",
        "print(\"Model's Accuracy on Test Set : \", accuracy * 100)"
      ],
      "metadata": {
        "colab": {
          "base_uri": "https://localhost:8080/",
          "height": 526
        },
        "id": "i3XsA9PJZYw1",
        "outputId": "574a2d8d-8841-4442-918e-63c046d271c0"
      },
      "execution_count": 6,
      "outputs": [
        {
          "output_type": "stream",
          "name": "stdout",
          "text": [
            "Model's Accuracy on Test Set :  98.09342230695901\n"
          ]
        },
        {
          "output_type": "display_data",
          "data": {
            "text/plain": [
              "<Figure size 640x480 with 2 Axes>"
            ],
            "image/png": "[encoded data removed]"
          },
          "metadata": {}
        }
      ]
    }
  ]
}